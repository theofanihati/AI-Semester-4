{
 "cells": [
  {
   "cell_type": "code",
   "execution_count": null,
   "metadata": {},
   "outputs": [
    {
     "ename": "",
     "evalue": "",
     "output_type": "error",
     "traceback": [
      "\u001b[1;31mRunning cells with 'Python 3.12.3' requires the ipykernel package.\n",
      "\u001b[1;31mRun the following command to install 'ipykernel' into the Python environment. \n",
      "\u001b[1;31mCommand: '\"c:/Users/Theofani Hati/AppData/Local/Programs/Python/Python312/python.exe\" -m pip install ipykernel -U --user --force-reinstall'"
     ]
    }
   ],
   "source": [
    "peta= {'A': set (['B', 'H']),\n",
    "       'B': set (['A', 'C', 'H']),\n",
    "        'C': set (['B', 'D', 'E']),\n",
    "        'D': set (['C', 'E', 'F', 'G', 'H']),\n",
    "        'E': set (['C', 'D']),\n",
    "        'F': set (['D', 'G']),\n",
    "        'G': set (['F', 'D', 'H']),\n",
    "        'H': set (['A', 'B', 'D', 'G']),}\n",
    "\n",
    "def BFS_shortest_line(maps, start, goal):\n",
    "    explored = [];\n",
    "    queue = [[start]];\n",
    "\n",
    "    if start == goal:\n",
    "        return \"Awal adalah tujuan\";\n",
    "\n",
    "    while queue:\n",
    "        line = queue.pop(0);\n",
    "        node = line[-1];\n",
    "\n",
    "        if node not in explored:\n",
    "            neighbours = maps[node];\n",
    "\n",
    "            for neighbour in neighbours:\n",
    "                new_line = list(line);\n",
    "                new_line.append(neighbour);\n",
    "                queue.append(new_line);\n",
    "\n",
    "                if neighbour == goal:\n",
    "                    return new_line; \n",
    "\n",
    "            explored.append(node);\n",
    "\n",
    "    return \"Mohon maaf node yang kalian pilih tidak ada\";\n",
    "\n",
    "start = input(\"Masukkan awal: \");\n",
    "goal = input(\"Masukkan akhir: \");"
   ]
  }
 ],
 "metadata": {
  "kernelspec": {
   "display_name": "Python 3",
   "language": "python",
   "name": "python3"
  },
  "language_info": {
   "name": "python",
   "version": "3.12.3"
  }
 },
 "nbformat": 4,
 "nbformat_minor": 2
}
