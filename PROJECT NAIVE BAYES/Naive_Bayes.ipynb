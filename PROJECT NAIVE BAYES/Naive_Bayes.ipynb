{
  "nbformat": 4,
  "nbformat_minor": 0,
  "metadata": {
    "colab": {
      "provenance": []
    },
    "kernelspec": {
      "name": "python3",
      "display_name": "Python 3"
    },
    "language_info": {
      "name": "python"
    }
  },
  "cells": [
    {
      "cell_type": "markdown",
      "source": [
        "NAIVE BAYES klasifikasi kualitas susu\n",
        "\n",
        "kelas: PSTI-C\n",
        "- 2215061015    | Arnora Mardiansyah\n",
        "- 2215061059    | Laurentius Nicholas Christmarines\n",
        "- 2255061004    | Theofani Hati Kusumawardani"
      ],
      "metadata": {
        "id": "IkPBiY3-bQ53"
      }
    },
    {
      "cell_type": "markdown",
      "source": [
        "TAHAP PERSIAPAN DATASET"
      ],
      "metadata": {
        "id": "8KfGcC_U-Qvo"
      }
    },
    {
      "cell_type": "code",
      "source": [
        "import numpy as py\n",
        "import pandas as pd\n",
        "\n",
        "dataset = pd.read_excel('milk_grading.xlsx')\n",
        "dataset.head()"
      ],
      "metadata": {
        "id": "ToB9O-h03ufw"
      },
      "execution_count": null,
      "outputs": []
    },
    {
      "cell_type": "code",
      "source": [
        "print(\"apakah ada data kosong? \" + str(dataset.empty))"
      ],
      "metadata": {
        "id": "sZ-ezjdb6rCV"
      },
      "execution_count": null,
      "outputs": []
    },
    {
      "cell_type": "code",
      "source": [
        "from sklearn.preprocessing import LabelEncoder                                  # ubah 'high' dan 'low' di kolom Grade jadi biner 1/0\n",
        "en = LabelEncoder()\n",
        "\n",
        "dataset['Grade'] = en.fit_transform(dataset['Grade'])\n",
        "dataset.head()"
      ],
      "metadata": {
        "id": "9AFq3_gN48ca"
      },
      "execution_count": null,
      "outputs": []
    },
    {
      "cell_type": "code",
      "source": [
        "X = dataset.iloc[:, :-1].values                                                 # deklar features sebagai semua kolom kecuali paling kanan\n",
        "y = dataset.iloc[:, -1].values                                                  # deklar label sebagai kolom paling kanan"
      ],
      "metadata": {
        "id": "nmqBlHf25nLI"
      },
      "execution_count": 113,
      "outputs": []
    },
    {
      "cell_type": "code",
      "source": [
        "X"
      ],
      "metadata": {
        "id": "k0U7U3Jm5xNF"
      },
      "execution_count": null,
      "outputs": []
    },
    {
      "cell_type": "code",
      "source": [
        "y"
      ],
      "metadata": {
        "id": "ia6RQ-Vj5y6n"
      },
      "execution_count": null,
      "outputs": []
    },
    {
      "cell_type": "markdown",
      "source": [
        "TAHAP PEMBAGIAN DATASET menjadi TESTING dan TRAINING"
      ],
      "metadata": {
        "id": "x6FKpvId-WKQ"
      }
    },
    {
      "cell_type": "code",
      "source": [
        "from sklearn.model_selection import train_test_split\n",
        "\n",
        "X_train, X_test, y_train, y_test = train_test_split(X,\n",
        "                                                    y,\n",
        "                                                    test_size=0.2,              # 20% sebagai testing dataset, 80% sebagai training dataset\n",
        "                                                    random_state=0)\n",
        "\n",
        "print(f'X_train shape{X_train.shape}')\n",
        "print(f'X_test shape{X_test.shape}')"
      ],
      "metadata": {
        "id": "bs2FrVQgnlcr"
      },
      "execution_count": null,
      "outputs": []
    },
    {
      "cell_type": "code",
      "source": [
        "from sklearn.preprocessing import StandardScaler                                # scaling value di xlsx agar skala ga terlalu jauh\n",
        "sc = StandardScaler()\n",
        "\n",
        "X_train= sc.fit_transform(X_train)\n",
        "X_test= sc.transform(X_test)"
      ],
      "metadata": {
        "id": "qzAcsqaS83GZ"
      },
      "execution_count": 117,
      "outputs": []
    },
    {
      "cell_type": "markdown",
      "source": [
        "KLASIFIKASI data dengan NAIVE BAYES"
      ],
      "metadata": {
        "id": "1zSsUCV9-b9T"
      }
    },
    {
      "cell_type": "code",
      "source": [
        "from sklearn.naive_bayes import GaussianNB\n",
        "from sklearn.metrics import accuracy_score\n",
        "from sklearn.metrics import confusion_matrix\n",
        "from sklearn.metrics import classification_report\n",
        "\n",
        "model = GaussianNB()\n",
        "model.fit(X_train, y_train)\n",
        "\n",
        "y_pred = model.predict(X_test)                                                  #prediksi X_test ditampung dalam y_pred\n",
        "y_pred                                                                          #tampilkan hasil prediksi"
      ],
      "metadata": {
        "id": "DyWzNFCspM9F"
      },
      "execution_count": null,
      "outputs": []
    },
    {
      "cell_type": "code",
      "source": [
        "model.predict_proba(X_test)                                                     #probabilitas model yang dihasilkan"
      ],
      "metadata": {
        "id": "5P92T_n7ziGC"
      },
      "execution_count": null,
      "outputs": []
    },
    {
      "cell_type": "markdown",
      "source": [
        "TAHAP EVALUASI HASIL"
      ],
      "metadata": {
        "id": "HaUntuIq-fht"
      }
    },
    {
      "cell_type": "code",
      "source": [
        "cm = confusion_matrix(y_test, y_pred)                                           #bandingkan hasil prediksi dengan yang sebenarnya\n",
        "print(\"confusion matrix: \" + str(cm))                                           #bisa dilihat data yang terprediksi secara benar dan salah diprediksi"
      ],
      "metadata": {
        "id": "6_S6YmoOzEl6"
      },
      "execution_count": null,
      "outputs": []
    },
    {
      "cell_type": "code",
      "source": [
        "print(\"akurasi 1= \\n\" + str(classification_report(y_test, y_pred)))             #lihat akurasi LENGKAP\n",
        "print(\"akurasi 2= \" + str(accuracy_score(y_test, y_pred)*100) + \"%\")            #ukur nilai akurasi klasifikasi naive bayes TANPA pembulatan\n",
        "print(\"akurasi 3= \" + str(round(accuracy_score(y_test, y_pred),2)*100) + \"%\")   #ukur nilai akurasi klasifikasi naive bayes DENGAN pembulatan\n",
        "print(\"akurasi 4= \" + str(model.score(X_test, y_test)*100) + \"%\")               #cara lain ukur akurasi"
      ],
      "metadata": {
        "id": "iHpskxE8zNJL"
      },
      "execution_count": null,
      "outputs": []
    }
  ]
}